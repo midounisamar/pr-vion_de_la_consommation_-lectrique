{
 "cells": [
  {
   "cell_type": "markdown",
   "id": "c2e2dc80",
   "metadata": {},
   "source": [
    "<h2>Rappel des modèles utilisés</h2>\n",
    "\n",
    "<h3>1. Holt-Winters additif</h3>\n",
    "<p><strong>Composantes :</strong> niveau (L<sub>t</sub>), tendance (T<sub>t</sub>), saisonnalité (S<sub>t</sub>)</p>\n",
    "<p><strong>Formules :</strong></p>\n",
    "<ul>\n",
    "  <li>L<sub>t</sub> = α (Y<sub>t</sub> - S<sub>t-m</sub>) + (1-α)(L<sub>t-1</sub> + T<sub>t-1</sub>)</li>\n",
    "  <li>T<sub>t</sub> = β (L<sub>t</sub> - L<sub>t-1</sub>) + (1-β) T<sub>t-1</sub></li>\n",
    "  <li>S<sub>t</sub> = γ (Y<sub>t</sub> - L<sub>t</sub>) + (1-γ) S<sub>t-m</sub></li>\n",
    "  <li>Ŷ<sub>t+h</sub> = L<sub>t</sub> + h T<sub>t</sub> + S<sub>t-m+h<sub>m</sub></sub>, où h<sub>m</sub> = ((h-1) mod m) + 1</li>\n",
    "</ul>\n",
    "<p><strong>Paramètres :</strong></p>\n",
    "<ul>\n",
    "  <li>Y<sub>t</sub> : observation réelle à l’instant t</li>\n",
    "  <li>m : période saisonnière</li>\n",
    "  <li>α, β, γ : coefficients de lissage (niveau, tendance, saisonnalité)</li>\n",
    "</ul>\n",
    "\n",
    "<h3>2. SARIMA (Seasonal ARIMA)</h3>\n",
    "<p><strong>Notation :</strong> SARIMA(p,d,q) × (P,D,Q)<sub>m</sub></p>\n",
    "<p><strong>Formule générale :</strong></p>\n",
    "<p>Φ<sub>P</sub>(B<sup>m</sup>) φ<sub>p</sub>(B) ∇<sup>d</sup> ∇<sup>D</sup><sub>m</sub> Y<sub>t</sub> = Θ<sub>Q</sub>(B<sup>m</sup>) θ<sub>q</sub>(B) ε<sub>t</sub></p>\n",
    "<ul>\n",
    "  <li>B : opérateur retard (B Y<sub>t</sub> = Y<sub>t-1</sub>)</li>\n",
    "  <li>φ<sub>p</sub>(B), θ<sub>q</sub>(B) : polynômes AR et MA</li>\n",
    "  <li>Φ<sub>P</sub>(B<sup>m</sup>), Θ<sub>Q</sub>(B<sup>m</sup>) : polynômes saisonniers AR et MA</li>\n",
    "  <li>∇<sup>d</sup> = (1-B)<sup>d</sup> : différenciation non saisonnière</li>\n",
    "  <li>∇<sup>D</sup><sub>m</sub> = (1-B<sup>m</sup>)<sup>D</sup> : différenciation saisonnière</li>\n",
    "  <li>ε<sub>t</sub> : terme d’erreur blanc</li>\n",
    "</ul>\n",
    "\n",
    "<h3>3. SARIMAX (SARIMA avec variables exogènes)</h3>\n",
    "<p><strong>Formule :</strong></p>\n",
    "<p>Y<sub>t</sub> = SARIMA(p,d,q)(P,D,Q)<sub>m</sub> + X<sub>t</sub> β + ε<sub>t</sub></p>\n",
    "<ul>\n",
    "  <li>X<sub>t</sub> : vecteur des variables exogènes (ex. température, DJU)</li>\n",
    "  <li>β : coefficients associés aux variables exogènes</li>\n",
    "  <li>Le reste est identique à SARIMA pour la composante temporelle</li>\n",
    "</ul>\n"
   ]
  }
 ],
 "metadata": {
  "language_info": {
   "name": "python"
  }
 },
 "nbformat": 4,
 "nbformat_minor": 5
}
